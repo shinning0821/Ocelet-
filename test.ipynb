{
 "cells": [
  {
   "cell_type": "code",
   "execution_count": null,
   "metadata": {},
   "outputs": [],
   "source": [
    "import matplotlib.pyplot as plt\n",
    "from albumentations import Flip, ShiftScaleRotate, RandomRotate90, RandomCrop\n",
    "from datasets import HearingDataset,HearingDataset_Fast,OceletDataset,OceletDataset_Fast\n",
    "import os \n",
    "import torch\n",
    "import numpy as np\n",
    "os.environ['CUDA_VISIBLE_DEVICES'] = \"4\"\n",
    "os.environ['CUDA_LAUNCH_BLOCKING'] = \"1\"\n",
    "torch.set_num_threads(3)\n",
    "\n",
    "import glob,os\n",
    "from trainval import trainval\n",
    "import matplotlib.pyplot as plt\n",
    "from haven import haven_utils as hu"
   ]
  },
  {
   "cell_type": "code",
   "execution_count": null,
   "metadata": {},
   "outputs": [],
   "source": [
    "exp_dict = hu.load_json('Experiment_Exp/exp_config_mynet_1.json')\n",
    "exp_dict[\"batch_size\"] = 2\n",
    "exp_dict[\"max_epoch\"] = 15\n",
    "\n",
    "datadir = '/data114_1/ocelot2023_v0.1.2' "
   ]
  },
  {
   "cell_type": "code",
   "execution_count": null,
   "metadata": {},
   "outputs": [],
   "source": [
    "import torch \n",
    "from torch.utils.data import DataLoader\n",
    "import albumentations as A\n",
    "import models\n",
    "from datasets import OceletDataset\n",
    "from haven import haven_utils as hu\n",
    "import tqdm \n",
    "import cv2\n",
    "\n",
    "datadir = '/data114_1/ocelot2023_v0.1.2' \n",
    "data_transform = A.Compose([\n",
    "                # A.Flip(p=0.3),\n",
    "                # A.Affine(p=0.3),\n",
    "                # A.Rotate(p=0.3),\n",
    "                A.HueSaturationValue(hue_shift_limit=10, sat_shift_limit=15, val_shift_limit=10, p=0.3),\n",
    "                A.GaussianBlur(3, p=0.3),\n",
    "                A.GaussNoise(30, p=0.3)],\n",
    "                keypoint_params=A.KeypointParams(format='xy'),\n",
    "                additional_targets={'mask0': 'mask',\n",
    "                                    'tissue_img':'mask',\n",
    "                                    'tissue_mask':'mask',\n",
    "                                    })\n",
    "                                    \n",
    "test_transform = A.Compose([A.Resize(1024, 1024)],\n",
    "                            keypoint_params=A.KeypointParams(format='xy'),\n",
    "                            additional_targets={'mask0': 'mask',\n",
    "                                                'tissue_img':'mask',\n",
    "                                                'tissue_mask':'mask',\n",
    "                                                })\n",
    "test_set = OceletDataset(data_dir=datadir,\n",
    "                        n_classes=exp_dict[\"n_classes\"],\n",
    "                        transform=test_transform,\n",
    "                        option=\"test\")\n",
    "\n",
    "test_loader = DataLoader(test_set,\n",
    "                        batch_size=1,\n",
    "                        num_workers=4)\n",
    "\n",
    "\n",
    "model_dir = 'Result/v5'\n",
    "save_dir = 'eval'\n",
    "model = models.get_model(exp_dict['model'], exp_dict=exp_dict, train_set=test_set).cuda()\n",
    "model.load_state_dict(hu.torch_load(os.path.join(model_dir, \"model_best.pth\")))    "
   ]
  },
  {
   "cell_type": "code",
   "execution_count": null,
   "metadata": {},
   "outputs": [],
   "source": [
    "for i, batch in enumerate(tqdm.tqdm(test_loader)):\n",
    "    cell_images = batch[\"images\"].cuda()\n",
    "    cell_masks = batch[\"gt\"].long().cuda()\n",
    "    tissue_img = batch[\"tissue_img\"].cuda()\n",
    "    tissue_masks = batch[\"tissue_mask\"].cuda()\n",
    "    roi_loc = batch[\"roi_loc\"].cuda()\n",
    "\n",
    "    cell_logits,tissue_logits = model.model_base.predict(cell_images,tissue_img,roi_loc)\n",
    "    prob = cell_logits.sigmoid()\n",
    "    seg = torch.argmax(prob, dim=1)\n",
    "    \n",
    "    cv2.imwrite(os.path.join(save_dir, 'predict/masks', '{}.png'.format(i)),seg[0].detach().cpu().numpy())\n",
    "    cv2.imwrite(os.path.join(save_dir, 'gt/masks', '{}.png'.format(i)),cell_masks[0].detach().cpu().numpy())\n",
    "    "
   ]
  },
  {
   "cell_type": "code",
   "execution_count": null,
   "metadata": {},
   "outputs": [],
   "source": [
    "predict = cv2.imread('eval/predict/masks/10.png')[:,:,0]\n",
    "gt = cv2.imread('eval/gt/masks/10.png')[:,:,0]\n",
    "\n",
    "fig,axes = plt.subplots(1,2, figsize=(30,10))\n",
    "\n",
    "axes[0].imshow(predict)\n",
    "axes[1].imshow(gt)"
   ]
  },
  {
   "cell_type": "code",
   "execution_count": null,
   "metadata": {},
   "outputs": [],
   "source": [
    "!python eval/mask2csv.py\n",
    "!python eval/convert_pred_csvs_to_json.py -d /data114_1/wzy/homework/code/eval -s test -m predict\n",
    "!python eval/convert_pred_csvs_to_json.py -d /data114_1/wzy/homework/code/eval -s test -m gt\n",
    "!python eval/eval.py"
   ]
  }
 ],
 "metadata": {
  "kernelspec": {
   "display_name": "Python 3.7.0 ('general')",
   "language": "python",
   "name": "python3"
  },
  "language_info": {
   "codemirror_mode": {
    "name": "ipython",
    "version": 3
   },
   "file_extension": ".py",
   "mimetype": "text/x-python",
   "name": "python",
   "nbconvert_exporter": "python",
   "pygments_lexer": "ipython3",
   "version": "3.7.0"
  },
  "orig_nbformat": 4,
  "vscode": {
   "interpreter": {
    "hash": "a71cc4314146b0e933944bc0f68d974dbf6df44331e2b71acc3dc305d8c9a61e"
   }
  }
 },
 "nbformat": 4,
 "nbformat_minor": 2
}
